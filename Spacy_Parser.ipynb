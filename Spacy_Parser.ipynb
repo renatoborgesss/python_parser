{
 "cells": [
  {
   "cell_type": "markdown",
   "metadata": {},
   "source": [
    "# Example of sysntatic parser using spacy\n",
    "\n",
    "# install\n",
    "pip install spacy\n",
    "python -m spacy.en.download all\n",
    "\n",
    "\n",
    "# docs\n",
    "https://spacy.io\n",
    "\n",
    "http://www.mathcs.emory.edu/~choi/doc/clear-dependency-2012.pdf\n",
    "\n",
    "http://aclweb.org/anthology/P/P15/P15-1038.pdf\n",
    "\n"
   ]
  },
  {
   "cell_type": "code",
   "execution_count": 1,
   "metadata": {
    "collapsed": false
   },
   "outputs": [],
   "source": [
    "#starting spacy\n",
    "from spacy.en import English\n",
    "nlp = English()\n"
   ]
  },
  {
   "cell_type": "code",
   "execution_count": 5,
   "metadata": {
    "collapsed": false
   },
   "outputs": [],
   "source": [
    "#opening sentences file\n",
    "f = open('sentences.txt', 'r')\n",
    "sentences = f.readlines()\n",
    "\n",
    "\n"
   ]
  },
  {
   "cell_type": "code",
   "execution_count": 6,
   "metadata": {
    "collapsed": false
   },
   "outputs": [
    {
     "name": "stdout",
     "output_type": "stream",
     "text": [
      "You may act as your own agent or you may choose your petitioner, a family member, friend, attorney, immigration professional, or any other person you trust \n",
      "You  <- act  (nsubj)\n",
      "may  <- act  (aux)\n",
      "act  <- act  (ROOT)\n",
      "as  <- act  (prep)\n",
      "your  <- agent  (poss)\n",
      "own  <- agent  (amod)\n",
      "agent  <- as  (pobj)\n",
      "or  <- act  (cc)\n",
      "you  <- choose  (nsubj)\n",
      "may  <- choose  (aux)\n",
      "choose  <- act  (conj)\n",
      "your  <- petitioner (poss)\n",
      "petitioner <- choose  (dobj)\n",
      ",  <- choose  (punct)\n",
      "a  <- member (det)\n",
      "family  <- member (compound)\n",
      "member <- choose  (dobj)\n",
      ",  <- member (punct)\n",
      "friend <- member (conj)\n",
      ",  <- friend (punct)\n",
      "attorney <- friend (conj)\n",
      ",  <- attorney (punct)\n",
      "immigration  <- professional (compound)\n",
      "professional <- member (appos)\n",
      ",  <- professional (punct)\n",
      "or  <- professional (cc)\n",
      "any  <- person  (det)\n",
      "other  <- person  (amod)\n",
      "person  <- professional (conj)\n",
      "you  <- trust (nsubj)\n",
      "trust <- person  (relcl)\n"
     ]
    }
   ],
   "source": [
    "sentenca = sentences[2].replace(\".\",\"\").replace(\"\\n\",\"\")\n",
    "print (sentenca)\n",
    "\n",
    "doc = nlp(str(sentenca))\n",
    "for word in doc:\n",
    "    #print (\"teste= \"+ word.pos_)\n",
    "    print(word.text_with_ws + \" <- \"  + word.head.text_with_ws + \" (\"  + word.dep_ + \")\" )\n",
    "    #if (word.head):\n",
    "    #    print (\" pai: \"+ word.head.text_with_ws)\n",
    "       \n",
    "    "
   ]
  },
  {
   "cell_type": "code",
   "execution_count": 9,
   "metadata": {
    "collapsed": false,
    "scrolled": true
   },
   "outputs": [
    {
     "name": "stdout",
     "output_type": "stream",
     "text": [
      "--\n",
      "Sentenca: If not Your first step is to choose an agent\n",
      "If\n",
      "passo por aqui 1\n",
      "passo por aqui 2\n",
      "z\n",
      "not\n",
      "passo por aqui 3\n",
      "tipo da sentenca\n",
      "1\n"
     ]
    },
    {
     "ename": "NameError",
     "evalue": "name 'Go_Rule_XOR' is not defined",
     "output_type": "error",
     "traceback": [
      "\u001b[1;31m---------------------------------------------------------------------------\u001b[0m",
      "\u001b[1;31mNameError\u001b[0m                                 Traceback (most recent call last)",
      "\u001b[1;32m<ipython-input-9-55e5d93f1dc0>\u001b[0m in \u001b[0;36m<module>\u001b[1;34m()\u001b[0m\n\u001b[0;32m     21\u001b[0m \u001b[1;33m\u001b[0m\u001b[0m\n\u001b[0;32m     22\u001b[0m         \u001b[1;32mif\u001b[0m \u001b[0mtype_of_sentence\u001b[0m \u001b[1;33m==\u001b[0m \u001b[0mTIPO_SENTENCA_XOR\u001b[0m\u001b[1;33m:\u001b[0m\u001b[1;33m\u001b[0m\u001b[0m\n\u001b[1;32m---> 23\u001b[1;33m             \u001b[0mGo_Rule_XOR\u001b[0m\u001b[1;33m(\u001b[0m\u001b[0mdoc\u001b[0m\u001b[1;33m)\u001b[0m\u001b[1;33m\u001b[0m\u001b[0m\n\u001b[0m\u001b[0;32m     24\u001b[0m         \u001b[1;32melif\u001b[0m \u001b[0mtype_of_sentence\u001b[0m \u001b[1;33m==\u001b[0m \u001b[0mTIPO_SENTENCA_AND\u001b[0m\u001b[1;33m:\u001b[0m\u001b[1;33m\u001b[0m\u001b[0m\n\u001b[0;32m     25\u001b[0m             \u001b[0mGo_Rule_AND\u001b[0m\u001b[1;33m(\u001b[0m\u001b[0mdoc\u001b[0m\u001b[1;33m)\u001b[0m\u001b[1;33m\u001b[0m\u001b[0m\n",
      "\u001b[1;31mNameError\u001b[0m: name 'Go_Rule_XOR' is not defined"
     ]
    }
   ],
   "source": [
    "#imprimindo \n",
    "\n",
    "        \n",
    "for sent in sentences:\n",
    "        sent = sent.replace(\".\",\"\").replace(\"\\n\",\"\")\n",
    "        print (\"--\")\n",
    "        print (\"Sentenca: \"+ sent)\n",
    "        doc = nlp(str(sent))\n",
    "        cont1=0\n",
    "        TIPO_SENTENCA_XOR = 1\n",
    "        TIPO_SENTENCA_AND = 2    \n",
    "        TIPO_SENTENCA_OTHERS = 3\n",
    "        \n",
    "\n",
    "\n",
    "        type_of_sentence = get_type_senteces(doc)\n",
    "\n",
    "\n",
    "        print(\"tipo da sentenca\")\n",
    "        print(type_of_sentence)    \n",
    "\n",
    "        if type_of_sentence == TIPO_SENTENCA_XOR:\n",
    "            Go_Rule_XOR(doc)\n",
    "        elif type_of_sentence == TIPO_SENTENCA_AND:\n",
    "            Go_Rule_AND(doc)\n",
    "        else:\n",
    "            Go_Rules_Activity_Event(doc)\n",
    "            \n",
    "        #print(\"tipo: \"+ s.get_type_senteces.text_with_ws)\n",
    "\n",
    "        #if (regra1(doc)):\n",
    "            #cont1=cont1+1 \n",
    "            #print (\"sentenca:\"+ sent)\n",
    "\n",
    "\n",
    "\n"
   ]
  },
  {
   "cell_type": "code",
   "execution_count": null,
   "metadata": {
    "collapsed": true
   },
   "outputs": [],
   "source": [
    " "
   ]
  },
  {
   "cell_type": "code",
   "execution_count": 8,
   "metadata": {
    "collapsed": false
   },
   "outputs": [],
   "source": [
    "def get_type_senteces(doc):\n",
    "    for idx, val in enumerate (doc):          \n",
    "        if isSIGNAL_WORDS_XOR(idx,val,doc):\n",
    "            return TIPO_SENTENCA_XOR\n",
    "    for idx, val in enumerate (doc):          \n",
    "        if isSIGNAL_WORDS_AND(idx,val,doc):\n",
    "            return TIPO_SENTENCA_AND\n",
    "    return TIPO_SENTENCA_OTHERS    \n",
    "     \n",
    "\n",
    "def isSIGNAL_WORDS_XOR(idx,val,doc):\n",
    "    print (val)\n",
    "    print(\"passo por aqui 1\")\n",
    "    if \"if\" in str(val).lower():\n",
    "        print(\"passo por aqui 2\")\n",
    "        z=doc[idx+1]       \n",
    "        if \"not\" in str(z).lower(): \n",
    "            print(\"passo por aqui 3\")\n",
    "\n",
    "            return True\n",
    "    elif \"if\" in str(val).lower()  or \"otherwise\"  in str(val).lower() or \"either\"  in str(val).lower() or  \"only\"  in str(val).lower() or \"till\"  in str(val).lower() or \"until\"  in str(val).lower() or \"when\"  in str(val).lower():\n",
    "        print(\"passo por aqui 4\")\n",
    "        return True\n",
    "    \n",
    "    elif \"in\"  in str(val).lower():\n",
    "        print(\"passo por aqui 5\")\n",
    "        z=doc[idx+1]\n",
    "        y=doc[idx+2]\n",
    "        if \"case\"  in str(z).lower() or (\"case\"  in str(z).lower() and \"of\"  in str(y).lower()):\n",
    "            print(\"passo por aqui 6\")\n",
    "            return True\n",
    "    else:\n",
    "        print(\"passo por aqui 7\")\n",
    "        return False\n",
    "\n",
    "\n",
    "\n",
    "\n",
    "def isSIGNAL_WORDS_AND(idx,val,doc):\n",
    "    print (val)\n",
    "    print(\"passo por aqui 8\")\n",
    "    if \"while\"  in str(val).lower()  or \"meanwhile\" in str(val).lower() or \"concurrently\" in str(val).lower() or \"meantime\" in str(val).lower() or \"simultaneously\" in str(val).lower() or \"whereas\"  in str(val).lower():\n",
    "        print(\"passo por aqui 9\")\n",
    "        return True\n",
    "    elif \"In\"  in str(val).lower():\n",
    "        print(\"passo por aqui 10\")\n",
    "        z=doc[idx+1]\n",
    "        y=doc[idx+2]\n",
    "        q=doc[idx+3]\n",
    "        if (\"parallel\"  in str(z).lower() or (\"parallel\"  in str(z).lower() and \"with\"  in str(y).lower() and \"this\" in str(q).lower())):\n",
    "            print(\"passo por aqui 11\")\n",
    "            return True\n",
    "        elif (\"the\"  in str(z).lower() and \"meantime\" in str(y).lower()):\n",
    "            print(\"passo por aqui 12\")\n",
    "            return True\n",
    "        elif (\"addition\"  in str(z).lower() and \"to\"  in str(y).lower()):\n",
    "            print(\"passo por aqui 13\")\n",
    "            return True\n",
    "    elif \"at\"  in str(val).lower():\n",
    "        z=doc[idx+1]\n",
    "        y=doc[idx+2]\n",
    "        q=doc[idx+3]\n",
    "        print(\"passo por aqui 14\")\n",
    "        if (\"the\"  in str(z).lower() and \"same\" in str(y).lower() and \"time\" in str(q).lower()):\n",
    "            print(\"passo por aqui 15\")\n",
    "            return True           \n",
    "    else:\n",
    "        print(\"passo por aqui 16\")\n",
    "        return False"
   ]
  },
  {
   "cell_type": "code",
   "execution_count": null,
   "metadata": {
    "collapsed": false
   },
   "outputs": [],
   "source": [
    "\n",
    "        \n",
    "    def regra1(doc):\n",
    "        cont1=0\n",
    "\n",
    "        for word in doc:\n",
    "            #print (''+dependency_labels_to_root(word)[0])\n",
    "            #print word.text_with_ws \n",
    "            #print  dependency_labels_to_root(word)\n",
    "            #print word.text_with_ws + ' '+word.tag_\n",
    "            if word.dep_ in ('nsubj' , 'csubj'):\n",
    "                sujeito = ''.join(w.text_with_ws for w in word.subtree)\n",
    "                print ('sujeito: ' + sujeito)\n",
    "\n",
    "\n",
    "            #if word.tag_ in ('VBZ'):\n",
    "            #    print ('verb:' + word.text_with_ws)\n",
    "             #   print(''.join(w.text_with_ws for w in word.subtree))\n",
    "\n",
    "\n",
    "            if word.dep_ in ('dobj', 'iobj'):\n",
    "                obj=''.join(w.text_with_ws for w in word.subtree)\n",
    "                #print (word.subtree[0].text_with_ws)\n",
    "                print('objeto: ' + obj)\n",
    "                for w in word.subtree:\n",
    "                    if w.dep_ in ('dobj', 'iobj'):\n",
    "                        print (\"verbo: \" + word.head.text_with_ws)\n",
    "                        print (\"-->\" + w.text_with_ws)\n",
    "\n",
    "                #achar_verbo_arvore(word.head)"
   ]
  },
  {
   "cell_type": "code",
   "execution_count": null,
   "metadata": {
    "collapsed": false
   },
   "outputs": [],
   "source": [
    "def hello(nome):\n",
    "    return \"Hello \"+ nome\n",
    "\n",
    "print (hello(\"ana\"))\n",
    "    \n"
   ]
  },
  {
   "cell_type": "code",
   "execution_count": null,
   "metadata": {
    "collapsed": true
   },
   "outputs": [],
   "source": []
  }
 ],
 "metadata": {
  "anaconda-cloud": {},
  "kernelspec": {
   "display_name": "Python 3",
   "language": "python",
   "name": "python3"
  },
  "language_info": {
   "codemirror_mode": {
    "name": "ipython",
    "version": 3
   },
   "file_extension": ".py",
   "mimetype": "text/x-python",
   "name": "python",
   "nbconvert_exporter": "python",
   "pygments_lexer": "ipython3",
   "version": "3.5.1"
  }
 },
 "nbformat": 4,
 "nbformat_minor": 0
}
