{
 "cells": [
  {
   "cell_type": "markdown",
   "metadata": {},
   "source": [
    "# Example of sysntatic parser using spacy\n",
    "\n",
    "# install\n",
    "pip install spacy\n",
    "python -m spacy.en.download all\n",
    "\n",
    "\n",
    "# docs\n",
    "https://spacy.io\n",
    "\n",
    "http://www.mathcs.emory.edu/~choi/doc/clear-dependency-2012.pdf\n",
    "\n",
    "http://aclweb.org/anthology/P/P15/P15-1038.pdf\n",
    "\n"
   ]
  },
  {
   "cell_type": "code",
   "execution_count": 1,
   "metadata": {
    "collapsed": false
   },
   "outputs": [],
   "source": [
    "#starting spacy\n",
    "from spacy.en import English\n",
    "nlp = English()\n"
   ]
  },
  {
   "cell_type": "code",
   "execution_count": 3,
   "metadata": {
    "collapsed": false
   },
   "outputs": [],
   "source": [
    "#opening sentences file\n",
    "f = open('sentences.txt', 'r')\n",
    "sentences = f.readlines()    \n",
    "print\n",
    "\n"
   ]
  },
  {
   "cell_type": "code",
   "execution_count": 52,
   "metadata": {
    "collapsed": false
   },
   "outputs": [
    {
     "name": "stdout",
     "output_type": "stream",
     "text": [
      "You may act as your own agent or you may choose your petitioner, a family member, friend, attorney, immigration professional, or any other person you trust \n",
      "You  <- act  (nsubj)\n",
      "may  <- act  (aux)\n",
      "act  <- act  (ROOT)\n",
      "as  <- act  (prep)\n",
      "your  <- agent  (poss)\n",
      "own  <- agent  (amod)\n",
      "agent  <- as  (pobj)\n",
      "or  <- act  (cc)\n",
      "you  <- choose  (nsubj)\n",
      "may  <- choose  (aux)\n",
      "choose  <- act  (conj)\n",
      "your  <- petitioner (poss)\n",
      "petitioner <- choose  (dobj)\n",
      ",  <- choose  (punct)\n",
      "a  <- member (det)\n",
      "family  <- member (compound)\n",
      "member <- choose  (dobj)\n",
      ",  <- member (punct)\n",
      "friend <- member (conj)\n",
      ",  <- friend (punct)\n",
      "attorney <- friend (conj)\n",
      ",  <- attorney (punct)\n",
      "immigration  <- professional (compound)\n",
      "professional <- member (appos)\n",
      ",  <- professional (punct)\n",
      "or  <- professional (cc)\n",
      "any  <- person  (det)\n",
      "other  <- person  (amod)\n",
      "person  <- professional (conj)\n",
      "you  <- trust (nsubj)\n",
      "trust <- person  (relcl)\n"
     ]
    }
   ],
   "source": [
    "sentenca = sentences[2].replace(\".\",\"\").replace(\"\\n\",\"\")\n",
    "print (sentenca)\n",
    "\n",
    "doc = nlp(str(sentenca))\n",
    "for word in doc:\n",
    "    print(word.text_with_ws + \" <- \"  + word.head.text_with_ws + \" (\"  + word.dep_ + \")\" )\n",
    "    #if (word.head):\n",
    "    #    print (\" pai: \"+ word.head.text_with_ws)\n",
    "       \n",
    "    "
   ]
  },
  {
   "cell_type": "code",
   "execution_count": 46,
   "metadata": {
    "collapsed": false,
    "scrolled": true
   },
   "outputs": [
    {
     "name": "stdout",
     "output_type": "stream",
     "text": [
      "--\n",
      "Sentenca: Your first step is to choose an agent\n",
      "sujeito: Your first step \n",
      "objeto: an agent\n",
      "-->agent\n",
      "verbo: choose \n",
      "--\n",
      "Sentenca: Your agent will receive communication from the NVC about your case\n",
      "sujeito: Your agent \n",
      "objeto: communication \n",
      "-->communication \n",
      "verbo: receive \n",
      "--\n",
      "Sentenca: You may act as your own agent or you may choose your petitioner, a family member, friend, attorney, immigration professional, or any other person you trust \n",
      "sujeito: You \n",
      "sujeito: you \n",
      "objeto: your petitioner\n",
      "-->petitioner\n",
      "verbo: choose \n",
      "objeto: a family member, friend, attorney, immigration professional, or any other person you trust\n",
      "-->member\n",
      "verbo: choose \n",
      "sujeito: you \n",
      "--\n",
      "Sentenca: You may have an agent that represented you and the petitioner in the petition process with USCIS \n",
      "sujeito: You \n",
      "objeto: an agent that represented you and the petitioner in the petition process with USCIS\n",
      "-->agent \n",
      "-->you \n",
      "verbo: have \n",
      "sujeito: that \n",
      "objeto: you and the petitioner \n",
      "-->you \n",
      "verbo: represented \n",
      "--\n",
      "Sentenca: However, you will need to formally select an agent to represent you for your visa processing\n",
      "sujeito: you \n",
      "objeto: an agent to represent you for your visa processing\n",
      "-->agent \n",
      "-->you \n",
      "verbo: select \n",
      "objeto: you \n",
      "-->you \n",
      "verbo: represent \n",
      "--\n",
      "Sentenca: To choose your agent, complete the Choice of Address and Agent (DS261) form in the Consular Electronic Application Center\n",
      "objeto: your agent\n",
      "-->agent\n",
      "verbo: choose \n",
      "objeto: the Choice of Address and Agent (DS261) form \n",
      "-->Choice \n",
      "verbo: complete \n"
     ]
    }
   ],
   "source": [
    "#imprimindo \n",
    "\n",
    "def dependency_labels_to_root(token):\n",
    "    '''Walk up the syntactic tree, collecting the arc labels.'''\n",
    "    dep_labels = []\n",
    "    while token.head is not token:\n",
    "        dep_labels.append(token.dep_)\n",
    "        token = token.head\n",
    "    return dep_labels\n",
    "\n",
    "\n",
    "def achar_verbo_arvore(tree):\n",
    "    print (\"verbo:\" + tree.text_with_ws)\n",
    "    #for token in tree:\n",
    "    #    if word.tag_ in ('VBZ'):\n",
    "    #        print 'verb:' + word.text_with_ws\n",
    "        \n",
    "\n",
    "\n",
    "        \n",
    "        \n",
    "for sent in sentences:\n",
    "    sent = sent.replace(\".\",\"\").replace(\"\\n\",\"\")\n",
    "    print (\"--\")\n",
    "    print (\"Sentenca: \"+ sent)\n",
    "    doc = nlp(str(sent))\n",
    "    cont1=0\n",
    "    \n",
    "    if (regra1(doc)):\n",
    "        cont1=cont1+1\n",
    "        print (\"sentenca:\"+ sent)\n",
    "    \n",
    "    \n",
    "   \n",
    "            \n"
   ]
  },
  {
   "cell_type": "code",
   "execution_count": null,
   "metadata": {
    "collapsed": true
   },
   "outputs": [],
   "source": [
    "def regra1(doc):\n",
    "    cont1=0\n",
    "    \n",
    "     for word in doc:\n",
    "        #print (''+dependency_labels_to_root(word)[0])\n",
    "        #print word.text_with_ws \n",
    "        #print  dependency_labels_to_root(word)\n",
    "        #print word.text_with_ws + ' '+word.tag_\n",
    "        if word.dep_ in ('nsubj' , 'csubj'):\n",
    "            sujeito = ''.join(w.text_with_ws for w in word.subtree)\n",
    "            print ('sujeito: ' + sujeito)\n",
    "        \n",
    "        \n",
    "        #if word.tag_ in ('VBZ'):\n",
    "        #    print ('verb:' + word.text_with_ws)\n",
    "         #   print(''.join(w.text_with_ws for w in word.subtree))\n",
    "        \n",
    "        \n",
    "        if word.dep_ in ('dobj', 'iobj'):\n",
    "            obj=''.join(w.text_with_ws for w in word.subtree)\n",
    "            #print (word.subtree[0].text_with_ws)\n",
    "            print('objeto: ' + obj)\n",
    "            for w in word.subtree:\n",
    "                if w.dep_ in ('dobj', 'iobj'):\n",
    "                    print (\"-->\" + w.text_with_ws)\n",
    "            print (\"verbo: \" + word.head.text_with_ws)\n",
    "            #achar_verbo_arvore(word.head)\n",
    "            \n",
    "        \n",
    "    \n",
    "    return true\n"
   ]
  },
  {
   "cell_type": "code",
   "execution_count": 55,
   "metadata": {
    "collapsed": false
   },
   "outputs": [
    {
     "name": "stdout",
     "output_type": "stream",
     "text": [
      "Helloo ana\n"
     ]
    }
   ],
   "source": [
    "def hello( nome):\n",
    "    return \"Helloo \"+ nome\n",
    "\n",
    "print (hello(\"ana\"))\n",
    "    \n"
   ]
  }
 ],
 "metadata": {
  "kernelspec": {
   "display_name": "Python 3",
   "language": "python",
   "name": "python3"
  },
  "language_info": {
   "codemirror_mode": {
    "name": "ipython",
    "version": 3
   },
   "file_extension": ".py",
   "mimetype": "text/x-python",
   "name": "python",
   "nbconvert_exporter": "python",
   "pygments_lexer": "ipython3",
   "version": "3.5.1"
  }
 },
 "nbformat": 4,
 "nbformat_minor": 0
}
